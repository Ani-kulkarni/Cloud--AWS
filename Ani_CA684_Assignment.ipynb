{
  "nbformat": 4,
  "nbformat_minor": 0,
  "metadata": {
    "colab": {
      "name": "Ani_CA684_Assign.ipynb",
      "provenance": [],
      "collapsed_sections": [
        "eM780CJcnwC-",
        "H-j01MZJseTg",
        "68_SgQHow5Wx"
      ],
      "authorship_tag": "ABX9TyPR4VB099RK/f0t5FjgcfSc",
      "include_colab_link": true
    },
    "kernelspec": {
      "name": "python3",
      "display_name": "Python 3"
    }
  },
  "cells": [
    {
      "cell_type": "markdown",
      "metadata": {
        "id": "view-in-github",
        "colab_type": "text"
      },
      "source": [
        "<a href=\"https://colab.research.google.com/github/Aniruddha-Kulkarni/Cloud--AWS/blob/master/Ani_CA684_Assignment.ipynb\" target=\"_parent\"><img src=\"https://colab.research.google.com/assets/colab-badge.svg\" alt=\"Open In Colab\"/></a>"
      ]
    },
    {
      "cell_type": "markdown",
      "metadata": {
        "id": "Fd6hn1ubjwxq",
        "colab_type": "text"
      },
      "source": [
        "# CA684 - Media Memorability Assignment\n",
        "\n",
        "This task focuses on predicting how well the viewers remember the video or to put it in other way, How memorable the video is to viewers. \n",
        "\n",
        "**Problem Statement:** To build a model for predicting/analyzing how memorable is the video by calculating the memorability score (Spearman Coefficient). Here the best model is selected based on the Spearman coefficient rank."
      ]
    },
    {
      "cell_type": "code",
      "metadata": {
        "id": "BQ5cDyU1bqqg",
        "colab_type": "code",
        "colab": {}
      },
      "source": [
        "!pip install pyprind"
      ],
      "execution_count": 0,
      "outputs": []
    },
    {
      "cell_type": "markdown",
      "metadata": {
        "id": "QDEQQ1HvlVjA",
        "colab_type": "text"
      },
      "source": [
        "\n",
        "\n",
        "**Importing required Libraries**\n",
        "\n"
      ]
    },
    {
      "cell_type": "code",
      "metadata": {
        "id": "c2Vx-KzFbimJ",
        "colab_type": "code",
        "colab": {}
      },
      "source": [
        "import pandas as pd\n",
        "import numpy as np\n",
        "import pyprind\n",
        "from string import punctuation\n",
        "from collections import Counter\n",
        "from sklearn.model_selection import train_test_split\n",
        "import matplotlib.pyplot as plt\n",
        "import os\n",
        "import glob\n",
        "import nltk"
      ],
      "execution_count": 0,
      "outputs": []
    },
    {
      "cell_type": "code",
      "metadata": {
        "id": "64pyODxMcZG0",
        "colab_type": "code",
        "colab": {}
      },
      "source": [
        "from google.colab import drive\n",
        "import os\n",
        "drive.mount('/content/drive/')\n",
        "os.chdir('/content/drive/My Drive/CA684_Assignment')"
      ],
      "execution_count": 0,
      "outputs": []
    },
    {
      "cell_type": "markdown",
      "metadata": {
        "id": "Mh-w2mqVlq9E",
        "colab_type": "text"
      },
      "source": [
        "# Section 1: Feature Extraction"
      ]
    },
    {
      "cell_type": "code",
      "metadata": {
        "id": "At2mo2Ambxym",
        "colab_type": "code",
        "colab": {}
      },
      "source": [
        "#Function to load C3D features\n",
        "def load_c3d(captions, c3dPath):\n",
        "    files = list(captions[\"video\"].values)\n",
        "    c3dfeatures = []\n",
        "    for file in files:\n",
        "        file = c3dPath+file[:-4]+'txt'\n",
        "        c3dfeatures.append(np.loadtxt(file))\n",
        "    #print(type(c3dfeatures))\n",
        "    return c3dfeatures"
      ],
      "execution_count": 0,
      "outputs": []
    },
    {
      "cell_type": "code",
      "metadata": {
        "id": "IqV8YcVYcDB4",
        "colab_type": "code",
        "colab": {}
      },
      "source": [
        "#Function to load HMP features\n",
        "def load_hmp(captions, hmp_path):\n",
        "    files = list(captions[\"video\"].values)\n",
        "    hmp_features = []\n",
        "    for file in files:\n",
        "        file = hmp_path+file[:-4]+'txt'\n",
        "        with open(file) as f:\n",
        "            for line in f:\n",
        "                pairs=line.split()\n",
        "                HMP_temp = { int(p.split(':')[0]) : float(p.split(':')[1]) for p in pairs}\n",
        "                HMP = np.zeros(6075)\n",
        "            for idx in HMP_temp.keys():\n",
        "                HMP[idx-1] = HMP_temp[idx]\n",
        "            hmp_features.append(HMP)\n",
        "    return hmp_features"
      ],
      "execution_count": 0,
      "outputs": []
    },
    {
      "cell_type": "code",
      "metadata": {
        "id": "fM6bFwr2cFRG",
        "colab_type": "code",
        "colab": {}
      },
      "source": [
        "#Function to load the captions into dataframes\n",
        "def load_captions(filename):\n",
        "    video_name = []\n",
        "    captions = []\n",
        "    dataframe = pd.DataFrame()\n",
        "    with open(filename) as file:\n",
        "        for line in file:\n",
        "            pair = line.split() #each line in the text file contains to words so, this code will split them into two words\n",
        "            video_name.append(pair[0]) #first word will be assigned as video name\n",
        "            captions.append(pair[1]) #second word will be assigned as caption\n",
        "        dataframe['video']=video_name #setting these two as column names of dataframe\n",
        "        dataframe['caption']=captions\n",
        "    return dataframe"
      ],
      "execution_count": 0,
      "outputs": []
    },
    {
      "cell_type": "code",
      "metadata": {
        "id": "Hi0es4CXcH8j",
        "colab_type": "code",
        "colab": {}
      },
      "source": [
        "#Function to calculate Spearman coefficient scores\n",
        "def Get_score(Y_pred,Y_true):\n",
        "    '''Calculate the Spearmann\"s correlation coefficient'''\n",
        "    Y_pred = np.squeeze(Y_pred)\n",
        "    Y_true = np.squeeze(Y_true)\n",
        "    if Y_pred.shape != Y_true.shape:\n",
        "        print('Input shapes don\\'t match!')\n",
        "    else:\n",
        "        if len(Y_pred.shape) == 1:\n",
        "            Res = pd.DataFrame({'Y_true':Y_true,'Y_pred':Y_pred})\n",
        "            score_mat = Res[['Y_true','Y_pred']].corr(method='spearman',min_periods=1)\n",
        "            print('The Spearman\\'s correlation coefficient is: %.3f' % score_mat.iloc[1][0])\n",
        "        else:\n",
        "            for ii in range(Y_pred.shape[1]):\n",
        "                Get_score(Y_pred[:,ii],Y_true[:,ii])"
      ],
      "execution_count": 0,
      "outputs": []
    },
    {
      "cell_type": "code",
      "metadata": {
        "id": "TK9ZzZCCcKT4",
        "colab_type": "code",
        "colab": {}
      },
      "source": [
        ""
      ],
      "execution_count": 0,
      "outputs": []
    },
    {
      "cell_type": "markdown",
      "metadata": {
        "id": "eHeVMGFIcLp_",
        "colab_type": "text"
      },
      "source": [
        "## Loading Features from the Dataset"
      ]
    },
    {
      "cell_type": "code",
      "metadata": {
        "id": "frvpbT08cOi5",
        "colab_type": "code",
        "colab": {}
      },
      "source": [
        "#load the ground truth dataset\n",
        "csv_path ='/content/drive/My Drive/CA684_Assignment/Dev-set/Ground-truth/ground-truth.csv'\n",
        "dataset = pd.read_csv(csv_path)\n",
        "\n",
        "#load captions\n",
        "captions_path ='/content/drive/My Drive/CA684_Assignment/Dev-set/Captions/dev-set_video-captions.txt'\n",
        "captions = load_captions(captions_path)\n",
        "\n",
        "\n",
        "#load C3D features\n",
        "c3dPath = '/content/drive/My Drive/CA684_Assignment/Dev-set/C3D/'\n",
        "c3dfeatures = load_c3d(captions,c3dPath)\n",
        "\n",
        "#load HMP features\n",
        "hmp_path = '/content/drive/My Drive/CA684_Assignment/Dev-set/HMP/'\n",
        "hmp_features = load_hmp(captions,hmp_path)"
      ],
      "execution_count": 0,
      "outputs": []
    },
    {
      "cell_type": "code",
      "metadata": {
        "id": "nuPhHF3ncS_h",
        "colab_type": "code",
        "colab": {}
      },
      "source": [
        "dataset.head()"
      ],
      "execution_count": 0,
      "outputs": []
    },
    {
      "cell_type": "code",
      "metadata": {
        "id": "DdY36Pk0cTfL",
        "colab_type": "code",
        "colab": {}
      },
      "source": [
        "captions.head()"
      ],
      "execution_count": 0,
      "outputs": []
    },
    {
      "cell_type": "code",
      "metadata": {
        "id": "qC9pH3_qcXGd",
        "colab_type": "code",
        "colab": {}
      },
      "source": [
        "\n",
        "#shape of the dataframes\n",
        "print(f'Ground Truth : {dataset.shape}')\n",
        "print(f'Dev Captions : {captions.shape}')\n",
        "print(f'C3D          : ({len(c3dfeatures)})')\n",
        "print(f'HMP          : ({len(hmp_features)})')"
      ],
      "execution_count": 0,
      "outputs": []
    },
    {
      "cell_type": "markdown",
      "metadata": {
        "id": "WvINEnjLmLwa",
        "colab_type": "text"
      },
      "source": [
        "# Section 2: Data Preprocessing\n",
        "\n",
        "As seen above,Dev dataset have been loaded. In this section i will implement CountVectorizer. To avoid any mismatch in dimensions, both the caption have been combined of which 6000 will be split for training and 2000 for prediction. "
      ]
    },
    {
      "cell_type": "code",
      "metadata": {
        "id": "IfNuUDsqnUsc",
        "colab_type": "code",
        "colab": {}
      },
      "source": [
        "#loading the nltk stopwords of English\n",
        "\n",
        "import nltk\n",
        "nltk.download('stopwords')\n",
        "stopwords = nltk.corpus.stopwords.words('english')\n",
        "print(f'Length of Stopwords: {len(stopwords)}')"
      ],
      "execution_count": 0,
      "outputs": []
    },
    {
      "cell_type": "markdown",
      "metadata": {
        "id": "DZsHycKgnZMA",
        "colab_type": "text"
      },
      "source": [
        "Below, I will be removing any punctuations or stop words and also convert any upper case letters to lower case to maintain consistency throughout the file."
      ]
    },
    {
      "cell_type": "code",
      "metadata": {
        "id": "jVedPnvingVF",
        "colab_type": "code",
        "colab": {}
      },
      "source": [
        "#Removing punctuations and stop words from captions\n",
        "# setup prograss tracker\n",
        "pbar = pyprind.ProgBar(len(captions['caption']), title='Counting word occurrences')\n",
        "for i, cap in enumerate(captions['caption']):\n",
        "    # replace punctuations with space\n",
        "    # convert words to lower case \n",
        "    text = ''.join([c if c not in punctuation else ' ' for c in cap]).lower()\n",
        "    #removing stopwords\n",
        "    rmv_stopwords= ' '.join([word for word in text.split() if word not in stopwords])\n",
        "    captions.loc[i,'caption'] = rmv_stopwords #updating the original captions \n",
        "    pbar.update()"
      ],
      "execution_count": 0,
      "outputs": []
    },
    {
      "cell_type": "code",
      "metadata": {
        "id": "wV7p_ivwnkhs",
        "colab_type": "code",
        "colab": {}
      },
      "source": [
        "captions.head()"
      ],
      "execution_count": 0,
      "outputs": []
    },
    {
      "cell_type": "code",
      "metadata": {
        "id": "TdpuKKZEnlGX",
        "colab_type": "code",
        "colab": {}
      },
      "source": [
        "#implementing CountVectorizer for the combined captions\n",
        "from sklearn.feature_extraction.text import CountVectorizer\n",
        "vectorizer = CountVectorizer(analyzer = \"word\",max_features=3112) \n",
        "captions_list = vectorizer.fit_transform(captions.caption).toarray()\n",
        "type(captions_list)"
      ],
      "execution_count": 0,
      "outputs": []
    },
    {
      "cell_type": "code",
      "metadata": {
        "id": "6aFW7roDnncS",
        "colab_type": "code",
        "colab": {}
      },
      "source": [
        "captions_list.shape"
      ],
      "execution_count": 0,
      "outputs": []
    },
    {
      "cell_type": "markdown",
      "metadata": {
        "id": "RMaQnemKIh6f",
        "colab_type": "text"
      },
      "source": [
        "* **Import Test Dataset**\n",
        "\n",
        "Same Data Cleaning has been carried out above for test dataset."
      ]
    },
    {
      "cell_type": "code",
      "metadata": {
        "id": "_vQ2JqJVIg3z",
        "colab_type": "code",
        "colab": {}
      },
      "source": [
        "#importing test Dataset\n",
        "test_captions_path ='/content/drive/My Drive/CA684_Assignment/Test-set/Captions_test/test-set-1_video-captions.txt'\n",
        "test_captions = load_captions(test_captions_path)"
      ],
      "execution_count": 0,
      "outputs": []
    },
    {
      "cell_type": "code",
      "metadata": {
        "id": "pMOt5YBJJ-is",
        "colab_type": "code",
        "colab": {}
      },
      "source": [
        "csv_path_test ='/content/drive/My Drive/CA684_Assignment/Test-set/Ground-truth_test/ground_truth_template.csv'\n",
        "test_dataset = pd.read_csv(csv_path_test)"
      ],
      "execution_count": 0,
      "outputs": []
    },
    {
      "cell_type": "code",
      "metadata": {
        "id": "73Ph-iCYJwJq",
        "colab_type": "code",
        "colab": {}
      },
      "source": [
        "test_dataset.head()"
      ],
      "execution_count": 0,
      "outputs": []
    },
    {
      "cell_type": "code",
      "metadata": {
        "id": "EcZZ3QaAKOSL",
        "colab_type": "code",
        "colab": {}
      },
      "source": [
        "test_captions.head()"
      ],
      "execution_count": 0,
      "outputs": []
    },
    {
      "cell_type": "code",
      "metadata": {
        "id": "Dct0RcuUKVz7",
        "colab_type": "code",
        "colab": {}
      },
      "source": [
        "#printing the dimensions of test-set dataset and features\n",
        "print(f'Test-Dataset : {test_dataset.shape}')\n",
        "print(f'Test-Captions: {test_captions.shape}')"
      ],
      "execution_count": 0,
      "outputs": []
    },
    {
      "cell_type": "code",
      "metadata": {
        "id": "jOBxndJuKcck",
        "colab_type": "code",
        "colab": {}
      },
      "source": [
        "#Removing punctuations and stop words from captions\n",
        "# setup prograss tracker\n",
        "pbar = pyprind.ProgBar(len(test_captions['caption']), title='Counting word occurrences')\n",
        "for i, cap in enumerate(test_captions['caption']):\n",
        "    # replace punctuations with space\n",
        "    # convert words to lower case \n",
        "    text = ''.join([c if c not in punctuation else ' ' for c in cap]).lower()\n",
        "    #removing stopwords\n",
        "    rmv_stopwords= ' '.join([word for word in text.split() if word not in stopwords])\n",
        "    test_captions.loc[i,'caption'] = rmv_stopwords #updating the original captions \n",
        "    pbar.update()"
      ],
      "execution_count": 0,
      "outputs": []
    },
    {
      "cell_type": "code",
      "metadata": {
        "id": "ymXsm7AZKgNs",
        "colab_type": "code",
        "colab": {}
      },
      "source": [
        "test_captions.head()"
      ],
      "execution_count": 0,
      "outputs": []
    },
    {
      "cell_type": "markdown",
      "metadata": {
        "id": "Uz2dm2TDWerL",
        "colab_type": "text"
      },
      "source": [
        "## Section 2.1: Storing a list of captions into a variable"
      ]
    },
    {
      "cell_type": "code",
      "metadata": {
        "id": "r7K2N0PwKkwl",
        "colab_type": "code",
        "colab": {}
      },
      "source": [
        "#implementing CountVectorizer for the combined captions\n",
        "from sklearn.feature_extraction.text import CountVectorizer\n",
        "vectorizer = CountVectorizer(analyzer = \"word\",max_features=3122) \n",
        "test_captions_list = vectorizer.fit_transform(test_captions.caption).toarray()\n",
        "type(test_captions_list)"
      ],
      "execution_count": 0,
      "outputs": []
    },
    {
      "cell_type": "code",
      "metadata": {
        "id": "LTd-c0nQKmfK",
        "colab_type": "code",
        "colab": {}
      },
      "source": [
        "print(f'Development Vocabulary Size   : {len(captions_list[0])}')\n",
        "print(f'Testing Vocabulary Size       : {len(test_captions_list[0])}')"
      ],
      "execution_count": 0,
      "outputs": []
    },
    {
      "cell_type": "code",
      "metadata": {
        "id": "P1lvZD9qKrdm",
        "colab_type": "code",
        "colab": {}
      },
      "source": [
        ""
      ],
      "execution_count": 0,
      "outputs": []
    },
    {
      "cell_type": "markdown",
      "metadata": {
        "id": "0gzgoxmpoBvB",
        "colab_type": "text"
      },
      "source": [
        "## Section 2.2 Combining Captions and C3D into a single Vector"
      ]
    },
    {
      "cell_type": "code",
      "metadata": {
        "id": "hmLyGQxqnpCE",
        "colab_type": "code",
        "colab": {}
      },
      "source": [
        "c3d_captions = (captions_list.tolist())\n",
        "counter = 0\n",
        "for item in range(6000):\n",
        "    c3d_captions[counter] = np.append(c3d_captions[counter],c3dfeatures[counter],axis=0)\n",
        "    counter = counter+1"
      ],
      "execution_count": 0,
      "outputs": []
    },
    {
      "cell_type": "code",
      "metadata": {
        "id": "GUdEbxnxnq5C",
        "colab_type": "code",
        "colab": {}
      },
      "source": [
        "len(c3d_captions[0])"
      ],
      "execution_count": 0,
      "outputs": []
    },
    {
      "cell_type": "code",
      "metadata": {
        "id": "DvsMAXPvnsY2",
        "colab_type": "code",
        "colab": {}
      },
      "source": [
        "len(c3d_captions)"
      ],
      "execution_count": 0,
      "outputs": []
    },
    {
      "cell_type": "markdown",
      "metadata": {
        "id": "eM780CJcnwC-",
        "colab_type": "text"
      },
      "source": [
        "## Section 2.3: Combining Caption+hmp+C3D"
      ]
    },
    {
      "cell_type": "code",
      "metadata": {
        "id": "tdBU_2P-nuEX",
        "colab_type": "code",
        "colab": {}
      },
      "source": [
        "#Combining c3d_captions with HMP to form \n",
        "c3d_captions_hmp = c3d_captions\n",
        "counter = 0\n",
        "for item in range(6000):\n",
        "    c3d_captions_hmp[counter] = np.append(c3d_captions_hmp[counter],hmp_features[counter],axis=0)\n",
        "    counter = counter+1"
      ],
      "execution_count": 0,
      "outputs": []
    },
    {
      "cell_type": "code",
      "metadata": {
        "id": "ZDoZdCH2n105",
        "colab_type": "code",
        "colab": {}
      },
      "source": [
        "len(c3d_captions_hmp[0])"
      ],
      "execution_count": 0,
      "outputs": []
    },
    {
      "cell_type": "code",
      "metadata": {
        "id": "_wW9S3a4n3oP",
        "colab_type": "code",
        "colab": {}
      },
      "source": [
        "len(c3d_captions_hmp)"
      ],
      "execution_count": 0,
      "outputs": []
    },
    {
      "cell_type": "markdown",
      "metadata": {
        "id": "j4coOqCv92fx",
        "colab_type": "text"
      },
      "source": [
        "## Section 2.4: Combining Caption and HMP"
      ]
    },
    {
      "cell_type": "code",
      "metadata": {
        "id": "Qyx_G2_V99VZ",
        "colab_type": "code",
        "colab": {}
      },
      "source": [
        "hmp_captions = (captions_list.tolist())\n",
        "counter = 0\n",
        "for item in range(6000):\n",
        "    hmp_captions[counter] = np.append(hmp_captions[counter],hmp_features[counter],axis=0)\n",
        "    counter = counter+1"
      ],
      "execution_count": 0,
      "outputs": []
    },
    {
      "cell_type": "markdown",
      "metadata": {
        "id": "R0CjNmD4pK3B",
        "colab_type": "text"
      },
      "source": [
        "# Section 3: Using Different Models on Dataset\n",
        "\n",
        "Here, I have used 2 models Random Forest and Decision Tree with different features or combination of features. Out of two models the best one was selected to fit the model in test set."
      ]
    },
    {
      "cell_type": "markdown",
      "metadata": {
        "id": "cAHyh1LZqbrQ",
        "colab_type": "text"
      },
      "source": [
        "## Section 3.1: Random Forest Model "
      ]
    },
    {
      "cell_type": "markdown",
      "metadata": {
        "id": "XTaKPIrvumU-",
        "colab_type": "text"
      },
      "source": [
        "\n",
        "\n",
        "### Section 3.1.1: Random Forest with Captions\n",
        "\n",
        "\n",
        "\n"
      ]
    },
    {
      "cell_type": "code",
      "metadata": {
        "id": "7Rx6jnIXosOh",
        "colab_type": "code",
        "colab": {}
      },
      "source": [
        "X = captions_list\n",
        "y = dataset[['short-term_memorability','long-term_memorability']].values"
      ],
      "execution_count": 0,
      "outputs": []
    },
    {
      "cell_type": "code",
      "metadata": {
        "id": "smikkK4moyAd",
        "colab_type": "code",
        "colab": {}
      },
      "source": [
        "# Splitting the dataset into the Training set and Test set\n",
        "X_train,X_test,y_train,y_test = train_test_split(X,y,test_size=0.2,random_state=42)"
      ],
      "execution_count": 0,
      "outputs": []
    },
    {
      "cell_type": "code",
      "metadata": {
        "id": "UXmJa7OXo0UX",
        "colab_type": "code",
        "colab": {}
      },
      "source": [
        "print('X_train ', X_train.shape)\n",
        "print('X_test  ', X_test.shape)\n",
        "print('Y_train ', y_train.shape)\n",
        "print('Y_test  ', y_test.shape)"
      ],
      "execution_count": 0,
      "outputs": []
    },
    {
      "cell_type": "code",
      "metadata": {
        "id": "cDXF6Dkdo4du",
        "colab_type": "code",
        "colab": {}
      },
      "source": [
        "from sklearn.ensemble import RandomForestRegressor\n",
        "captions_rf = RandomForestRegressor(n_estimators=100,random_state=45)"
      ],
      "execution_count": 0,
      "outputs": []
    },
    {
      "cell_type": "code",
      "metadata": {
        "id": "6idTSJDCo5E7",
        "colab_type": "code",
        "colab": {}
      },
      "source": [
        "captions_rf.fit(X_train,y_train)"
      ],
      "execution_count": 0,
      "outputs": []
    },
    {
      "cell_type": "code",
      "metadata": {
        "id": "eB8pt3P6o63R",
        "colab_type": "code",
        "colab": {}
      },
      "source": [
        "captions_pred = captions_rf.predict(X_test)"
      ],
      "execution_count": 0,
      "outputs": []
    },
    {
      "cell_type": "code",
      "metadata": {
        "id": "-GGtsFNuo83B",
        "colab_type": "code",
        "colab": {}
      },
      "source": [
        "Get_score(captions_pred, y_test)"
      ],
      "execution_count": 0,
      "outputs": []
    },
    {
      "cell_type": "markdown",
      "metadata": {
        "id": "H-j01MZJseTg",
        "colab_type": "text"
      },
      "source": [
        "\n",
        "\n",
        "### Section 3.1.2: Random Forest Using C3D and Caption\n",
        "\n"
      ]
    },
    {
      "cell_type": "code",
      "metadata": {
        "id": "-bl-NHj6sdYT",
        "colab_type": "code",
        "colab": {}
      },
      "source": [
        "X = c3d_captions\n",
        "y = dataset[['short-term_memorability','long-term_memorability']].values"
      ],
      "execution_count": 0,
      "outputs": []
    },
    {
      "cell_type": "code",
      "metadata": {
        "id": "R8njodvdsyCC",
        "colab_type": "code",
        "colab": {}
      },
      "source": [
        "# Splitting the dataset into the Training set and Test set\n",
        "X_train,X_test,y_train,y_test = train_test_split(X,y,test_size=0.2,random_state=42)"
      ],
      "execution_count": 0,
      "outputs": []
    },
    {
      "cell_type": "code",
      "metadata": {
        "id": "b9YdA9Hvsz4H",
        "colab_type": "code",
        "colab": {}
      },
      "source": [
        "from sklearn.ensemble import RandomForestRegressor\n",
        "rf_regressor = RandomForestRegressor(n_estimators=50,random_state=45,verbose=2)"
      ],
      "execution_count": 0,
      "outputs": []
    },
    {
      "cell_type": "code",
      "metadata": {
        "id": "QYukKFyis1yF",
        "colab_type": "code",
        "colab": {}
      },
      "source": [
        "rf_regressor.fit(X_train,y_train)"
      ],
      "execution_count": 0,
      "outputs": []
    },
    {
      "cell_type": "code",
      "metadata": {
        "id": "4w-KXOOus6tT",
        "colab_type": "code",
        "colab": {}
      },
      "source": [
        "rf_pred = rf_regressor.predict(X_test)"
      ],
      "execution_count": 0,
      "outputs": []
    },
    {
      "cell_type": "code",
      "metadata": {
        "id": "UBO7tyEus7MP",
        "colab_type": "code",
        "colab": {}
      },
      "source": [
        "Get_score(rf_pred, y_test)"
      ],
      "execution_count": 0,
      "outputs": []
    },
    {
      "cell_type": "markdown",
      "metadata": {
        "id": "68_SgQHow5Wx",
        "colab_type": "text"
      },
      "source": [
        "\n",
        "### Section 3.1.3: Random Forest with C3D, Caption and HMP\n",
        "\n",
        "\n"
      ]
    },
    {
      "cell_type": "code",
      "metadata": {
        "id": "2oKdezsLw_p9",
        "colab_type": "code",
        "colab": {}
      },
      "source": [
        "X = c3d_captions_hmp\n",
        "y = dataset[['short-term_memorability','long-term_memorability']].values"
      ],
      "execution_count": 0,
      "outputs": []
    },
    {
      "cell_type": "code",
      "metadata": {
        "id": "5_9zSp2YxAfq",
        "colab_type": "code",
        "colab": {}
      },
      "source": [
        "# Splitting the dataset into the Training set and Test set\n",
        "X_train,X_test,y_train,y_test = train_test_split(X,y,test_size=0.2,random_state=42)"
      ],
      "execution_count": 0,
      "outputs": []
    },
    {
      "cell_type": "code",
      "metadata": {
        "id": "jrJfwqR4xCl0",
        "colab_type": "code",
        "colab": {}
      },
      "source": [
        "from sklearn.ensemble import RandomForestRegressor\n",
        "rf_regressor = RandomForestRegressor(n_estimators=100,random_state=45,verbose=2)"
      ],
      "execution_count": 0,
      "outputs": []
    },
    {
      "cell_type": "code",
      "metadata": {
        "id": "0IvWxEr8xEyd",
        "colab_type": "code",
        "colab": {}
      },
      "source": [
        "rf_regressor.fit(X_train,y_train)"
      ],
      "execution_count": 0,
      "outputs": []
    },
    {
      "cell_type": "code",
      "metadata": {
        "id": "Qtv186I3xI3e",
        "colab_type": "code",
        "colab": {}
      },
      "source": [
        "rf_pred = rf_regressor.predict(X_test)"
      ],
      "execution_count": 0,
      "outputs": []
    },
    {
      "cell_type": "code",
      "metadata": {
        "id": "KIi6WgfvxJRL",
        "colab_type": "code",
        "colab": {}
      },
      "source": [
        "Get_score(rf_pred, y_test)"
      ],
      "execution_count": 0,
      "outputs": []
    },
    {
      "cell_type": "markdown",
      "metadata": {
        "id": "jCcFUmr6wKvq",
        "colab_type": "text"
      },
      "source": [
        "### Section 3.1.4 Random Forest with HMP"
      ]
    },
    {
      "cell_type": "code",
      "metadata": {
        "id": "VZnUnf-GwRLt",
        "colab_type": "code",
        "colab": {}
      },
      "source": [
        "X = hmp_features\n",
        "y = dataset[['short-term_memorability','long-term_memorability']].values"
      ],
      "execution_count": 0,
      "outputs": []
    },
    {
      "cell_type": "code",
      "metadata": {
        "id": "oHW_eBBYwrRF",
        "colab_type": "code",
        "colab": {}
      },
      "source": [
        "# Splitting the dataset into the Training set and Test set\n",
        "X_train,X_test,y_train,y_test = train_test_split(X,y,test_size=0.2,random_state=42)"
      ],
      "execution_count": 0,
      "outputs": []
    },
    {
      "cell_type": "code",
      "metadata": {
        "id": "FbtzNnS5wuhw",
        "colab_type": "code",
        "colab": {}
      },
      "source": [
        "from sklearn.ensemble import RandomForestRegressor\n",
        "rf_regressor = RandomForestRegressor(n_estimators=50,random_state=45,verbose=2)"
      ],
      "execution_count": 0,
      "outputs": []
    },
    {
      "cell_type": "code",
      "metadata": {
        "id": "tgQA_hINwxYx",
        "colab_type": "code",
        "colab": {
          "base_uri": "https://localhost:8080/",
          "height": 1000
        },
        "outputId": "55434943-e31b-4155-b724-02eb7f88ad21"
      },
      "source": [
        "rf_regressor.fit(X_train,y_train)"
      ],
      "execution_count": 59,
      "outputs": [
        {
          "output_type": "stream",
          "text": [
            "[Parallel(n_jobs=1)]: Using backend SequentialBackend with 1 concurrent workers.\n"
          ],
          "name": "stderr"
        },
        {
          "output_type": "stream",
          "text": [
            "building tree 1 of 50\n"
          ],
          "name": "stdout"
        },
        {
          "output_type": "stream",
          "text": [
            "[Parallel(n_jobs=1)]: Done   1 out of   1 | elapsed:   18.0s remaining:    0.0s\n"
          ],
          "name": "stderr"
        },
        {
          "output_type": "stream",
          "text": [
            "building tree 2 of 50\n",
            "building tree 3 of 50\n",
            "building tree 4 of 50\n",
            "building tree 5 of 50\n",
            "building tree 6 of 50\n",
            "building tree 7 of 50\n",
            "building tree 8 of 50\n",
            "building tree 9 of 50\n",
            "building tree 10 of 50\n",
            "building tree 11 of 50\n",
            "building tree 12 of 50\n",
            "building tree 13 of 50\n",
            "building tree 14 of 50\n",
            "building tree 15 of 50\n",
            "building tree 16 of 50\n",
            "building tree 17 of 50\n",
            "building tree 18 of 50\n",
            "building tree 19 of 50\n",
            "building tree 20 of 50\n",
            "building tree 21 of 50\n",
            "building tree 22 of 50\n",
            "building tree 23 of 50\n",
            "building tree 24 of 50\n",
            "building tree 25 of 50\n",
            "building tree 26 of 50\n",
            "building tree 27 of 50\n",
            "building tree 28 of 50\n",
            "building tree 29 of 50\n",
            "building tree 30 of 50\n",
            "building tree 31 of 50\n",
            "building tree 32 of 50\n",
            "building tree 33 of 50\n",
            "building tree 34 of 50\n",
            "building tree 35 of 50\n",
            "building tree 36 of 50\n",
            "building tree 37 of 50\n",
            "building tree 38 of 50\n",
            "building tree 39 of 50\n",
            "building tree 40 of 50\n",
            "building tree 41 of 50\n",
            "building tree 42 of 50\n",
            "building tree 43 of 50\n",
            "building tree 44 of 50\n",
            "building tree 45 of 50\n",
            "building tree 46 of 50\n",
            "building tree 47 of 50\n",
            "building tree 48 of 50\n",
            "building tree 49 of 50\n",
            "building tree 50 of 50\n"
          ],
          "name": "stdout"
        },
        {
          "output_type": "stream",
          "text": [
            "[Parallel(n_jobs=1)]: Done  50 out of  50 | elapsed: 14.0min finished\n"
          ],
          "name": "stderr"
        },
        {
          "output_type": "execute_result",
          "data": {
            "text/plain": [
              "RandomForestRegressor(bootstrap=True, ccp_alpha=0.0, criterion='mse',\n",
              "                      max_depth=None, max_features='auto', max_leaf_nodes=None,\n",
              "                      max_samples=None, min_impurity_decrease=0.0,\n",
              "                      min_impurity_split=None, min_samples_leaf=1,\n",
              "                      min_samples_split=2, min_weight_fraction_leaf=0.0,\n",
              "                      n_estimators=50, n_jobs=None, oob_score=False,\n",
              "                      random_state=45, verbose=2, warm_start=False)"
            ]
          },
          "metadata": {
            "tags": []
          },
          "execution_count": 59
        }
      ]
    },
    {
      "cell_type": "code",
      "metadata": {
        "id": "s5W0SM4pw1QN",
        "colab_type": "code",
        "colab": {
          "base_uri": "https://localhost:8080/",
          "height": 68
        },
        "outputId": "9eb801a7-8c02-4c52-d960-ad5f102725ce"
      },
      "source": [
        "rf_pred = rf_regressor.predict(X_test)"
      ],
      "execution_count": 60,
      "outputs": [
        {
          "output_type": "stream",
          "text": [
            "[Parallel(n_jobs=1)]: Using backend SequentialBackend with 1 concurrent workers.\n",
            "[Parallel(n_jobs=1)]: Done   1 out of   1 | elapsed:    0.0s remaining:    0.0s\n",
            "[Parallel(n_jobs=1)]: Done  50 out of  50 | elapsed:    0.0s finished\n"
          ],
          "name": "stderr"
        }
      ]
    },
    {
      "cell_type": "code",
      "metadata": {
        "id": "cn-K-uoOw1og",
        "colab_type": "code",
        "colab": {
          "base_uri": "https://localhost:8080/",
          "height": 51
        },
        "outputId": "814efce1-3e2b-48c5-ebd4-1a6d88fc9665"
      },
      "source": [
        "Get_score(rf_pred, y_test)"
      ],
      "execution_count": 61,
      "outputs": [
        {
          "output_type": "stream",
          "text": [
            "The Spearman's correlation coefficient is: 0.287\n",
            "The Spearman's correlation coefficient is: 0.140\n"
          ],
          "name": "stdout"
        }
      ]
    },
    {
      "cell_type": "markdown",
      "metadata": {
        "id": "WQY1CMAx-UAs",
        "colab_type": "text"
      },
      "source": [
        "### Section 3.1.5: Random Forest with Captions and HMP"
      ]
    },
    {
      "cell_type": "code",
      "metadata": {
        "id": "fond72l5-d84",
        "colab_type": "code",
        "colab": {}
      },
      "source": [
        "X = hmp_captions\n",
        "y = dataset[['short-term_memorability','long-term_memorability']].values"
      ],
      "execution_count": 0,
      "outputs": []
    },
    {
      "cell_type": "code",
      "metadata": {
        "id": "IrexXM49-lCZ",
        "colab_type": "code",
        "colab": {}
      },
      "source": [
        "# Splitting the dataset into the Training set and Test set\n",
        "X_train,X_test,y_train,y_test = train_test_split(X,y,test_size=0.2,random_state=42)"
      ],
      "execution_count": 0,
      "outputs": []
    },
    {
      "cell_type": "code",
      "metadata": {
        "id": "QTQyb668-6cw",
        "colab_type": "code",
        "colab": {}
      },
      "source": [
        "from sklearn.ensemble import RandomForestRegressor\n",
        "rf_regressor = RandomForestRegressor(n_estimators=50,random_state=45,verbose=2)"
      ],
      "execution_count": 0,
      "outputs": []
    },
    {
      "cell_type": "code",
      "metadata": {
        "id": "VxWBdLVB-9m3",
        "colab_type": "code",
        "colab": {
          "base_uri": "https://localhost:8080/",
          "height": 1000
        },
        "outputId": "cdb3fa51-454f-4898-cfd6-728b956f4a54"
      },
      "source": [
        "rf_regressor.fit(X_train,y_train)"
      ],
      "execution_count": 86,
      "outputs": [
        {
          "output_type": "stream",
          "text": [
            "[Parallel(n_jobs=1)]: Using backend SequentialBackend with 1 concurrent workers.\n"
          ],
          "name": "stderr"
        },
        {
          "output_type": "stream",
          "text": [
            "building tree 1 of 50\n"
          ],
          "name": "stdout"
        },
        {
          "output_type": "stream",
          "text": [
            "[Parallel(n_jobs=1)]: Done   1 out of   1 | elapsed:   18.7s remaining:    0.0s\n"
          ],
          "name": "stderr"
        },
        {
          "output_type": "stream",
          "text": [
            "building tree 2 of 50\n",
            "building tree 3 of 50\n",
            "building tree 4 of 50\n",
            "building tree 5 of 50\n",
            "building tree 6 of 50\n",
            "building tree 7 of 50\n",
            "building tree 8 of 50\n",
            "building tree 9 of 50\n",
            "building tree 10 of 50\n",
            "building tree 11 of 50\n",
            "building tree 12 of 50\n",
            "building tree 13 of 50\n",
            "building tree 14 of 50\n",
            "building tree 15 of 50\n",
            "building tree 16 of 50\n",
            "building tree 17 of 50\n",
            "building tree 18 of 50\n",
            "building tree 19 of 50\n",
            "building tree 20 of 50\n",
            "building tree 21 of 50\n",
            "building tree 22 of 50\n",
            "building tree 23 of 50\n",
            "building tree 24 of 50\n",
            "building tree 25 of 50\n",
            "building tree 26 of 50\n",
            "building tree 27 of 50\n",
            "building tree 28 of 50\n",
            "building tree 29 of 50\n",
            "building tree 30 of 50\n",
            "building tree 31 of 50\n",
            "building tree 32 of 50\n",
            "building tree 33 of 50\n",
            "building tree 34 of 50\n",
            "building tree 35 of 50\n",
            "building tree 36 of 50\n",
            "building tree 37 of 50\n",
            "building tree 38 of 50\n",
            "building tree 39 of 50\n",
            "building tree 40 of 50\n",
            "building tree 41 of 50\n",
            "building tree 42 of 50\n",
            "building tree 43 of 50\n",
            "building tree 44 of 50\n",
            "building tree 45 of 50\n",
            "building tree 46 of 50\n",
            "building tree 47 of 50\n",
            "building tree 48 of 50\n",
            "building tree 49 of 50\n",
            "building tree 50 of 50\n"
          ],
          "name": "stdout"
        },
        {
          "output_type": "stream",
          "text": [
            "[Parallel(n_jobs=1)]: Done  50 out of  50 | elapsed: 14.9min finished\n"
          ],
          "name": "stderr"
        },
        {
          "output_type": "execute_result",
          "data": {
            "text/plain": [
              "RandomForestRegressor(bootstrap=True, ccp_alpha=0.0, criterion='mse',\n",
              "                      max_depth=None, max_features='auto', max_leaf_nodes=None,\n",
              "                      max_samples=None, min_impurity_decrease=0.0,\n",
              "                      min_impurity_split=None, min_samples_leaf=1,\n",
              "                      min_samples_split=2, min_weight_fraction_leaf=0.0,\n",
              "                      n_estimators=50, n_jobs=None, oob_score=False,\n",
              "                      random_state=45, verbose=2, warm_start=False)"
            ]
          },
          "metadata": {
            "tags": []
          },
          "execution_count": 86
        }
      ]
    },
    {
      "cell_type": "code",
      "metadata": {
        "id": "UIbkOzKi_Adq",
        "colab_type": "code",
        "colab": {
          "base_uri": "https://localhost:8080/",
          "height": 68
        },
        "outputId": "46d4437c-5a97-4fd9-8dd6-6ed5bb7061c9"
      },
      "source": [
        "rf_pred = rf_regressor.predict(X_test)"
      ],
      "execution_count": 87,
      "outputs": [
        {
          "output_type": "stream",
          "text": [
            "[Parallel(n_jobs=1)]: Using backend SequentialBackend with 1 concurrent workers.\n",
            "[Parallel(n_jobs=1)]: Done   1 out of   1 | elapsed:    0.0s remaining:    0.0s\n",
            "[Parallel(n_jobs=1)]: Done  50 out of  50 | elapsed:    0.0s finished\n"
          ],
          "name": "stderr"
        }
      ]
    },
    {
      "cell_type": "code",
      "metadata": {
        "id": "z8EtjCUH_BDI",
        "colab_type": "code",
        "colab": {
          "base_uri": "https://localhost:8080/",
          "height": 51
        },
        "outputId": "9ce838cf-47f8-400d-b41e-09e39bf1cc86"
      },
      "source": [
        "Get_score(rf_pred, y_test)"
      ],
      "execution_count": 88,
      "outputs": [
        {
          "output_type": "stream",
          "text": [
            "The Spearman's correlation coefficient is: 0.304\n",
            "The Spearman's correlation coefficient is: 0.109\n"
          ],
          "name": "stdout"
        }
      ]
    },
    {
      "cell_type": "markdown",
      "metadata": {
        "id": "rK407G7f4149",
        "colab_type": "text"
      },
      "source": [
        "\n",
        "## Section 3.2: Decision Tree Model\n",
        "\n"
      ]
    },
    {
      "cell_type": "markdown",
      "metadata": {
        "id": "I6RmHOd4q3ng",
        "colab_type": "text"
      },
      "source": [
        "### Section 3.2.1: Decision Tree with Captions"
      ]
    },
    {
      "cell_type": "code",
      "metadata": {
        "id": "XQ8qscn547Rp",
        "colab_type": "code",
        "colab": {}
      },
      "source": [
        "X = captions_list\n",
        "y = dataset[['short-term_memorability','long-term_memorability']].values"
      ],
      "execution_count": 0,
      "outputs": []
    },
    {
      "cell_type": "code",
      "metadata": {
        "id": "VHMCERPQ77a5",
        "colab_type": "code",
        "colab": {}
      },
      "source": [
        "from sklearn.model_selection import train_test_split\n",
        "X_train, X_test, y_train, y_test = train_test_split(X, y, test_size = 0.20)"
      ],
      "execution_count": 0,
      "outputs": []
    },
    {
      "cell_type": "code",
      "metadata": {
        "id": "PcHzU8AH7-ug",
        "colab_type": "code",
        "colab": {}
      },
      "source": [
        "from sklearn.tree import DecisionTreeRegressor\n",
        "DTregressor = DecisionTreeRegressor()\n",
        "DTregressor.fit(X_train, y_train)"
      ],
      "execution_count": 0,
      "outputs": []
    },
    {
      "cell_type": "code",
      "metadata": {
        "id": "DjhRtBL_8Ggc",
        "colab_type": "code",
        "colab": {}
      },
      "source": [
        "y_pred = DTregressor.predict(X_test)\n",
        "Get_score(y_pred, y_test)"
      ],
      "execution_count": 0,
      "outputs": []
    },
    {
      "cell_type": "markdown",
      "metadata": {
        "id": "zUMWXj6I8Xkv",
        "colab_type": "text"
      },
      "source": [
        "### Section 3.2.2: Decision Tree with Captions and C3D"
      ]
    },
    {
      "cell_type": "code",
      "metadata": {
        "id": "Z6S7VebW8ckk",
        "colab_type": "code",
        "colab": {}
      },
      "source": [
        "X = c3d_captions\n",
        "y = dataset[['short-term_memorability','long-term_memorability']].values"
      ],
      "execution_count": 0,
      "outputs": []
    },
    {
      "cell_type": "code",
      "metadata": {
        "id": "W-g89ElH8kec",
        "colab_type": "code",
        "colab": {}
      },
      "source": [
        "from sklearn.model_selection import train_test_split\n",
        "X_train, X_test, y_train, y_test = train_test_split(X, y, test_size = 0.20)"
      ],
      "execution_count": 0,
      "outputs": []
    },
    {
      "cell_type": "code",
      "metadata": {
        "id": "oBb9ldYf8lbv",
        "colab_type": "code",
        "colab": {}
      },
      "source": [
        "from sklearn.tree import DecisionTreeRegressor\n",
        "DTregressor = DecisionTreeRegressor()\n",
        "DTregressor.fit(X_train, y_train)"
      ],
      "execution_count": 0,
      "outputs": []
    },
    {
      "cell_type": "code",
      "metadata": {
        "id": "-Cu_LnEC83xc",
        "colab_type": "code",
        "colab": {}
      },
      "source": [
        "y_pred = DTregressor.predict(X_test)\n",
        "Get_score(y_pred, y_test)"
      ],
      "execution_count": 0,
      "outputs": []
    },
    {
      "cell_type": "markdown",
      "metadata": {
        "id": "CR6Yelhd9Ltj",
        "colab_type": "text"
      },
      "source": [
        "### Section 3.2.3: Decision Tree with Captions,C3D and HMP"
      ]
    },
    {
      "cell_type": "code",
      "metadata": {
        "id": "fXVA0oSV9QDm",
        "colab_type": "code",
        "colab": {}
      },
      "source": [
        "X = c3d_captions_hmp\n",
        "y = dataset[['short-term_memorability','long-term_memorability']].values"
      ],
      "execution_count": 0,
      "outputs": []
    },
    {
      "cell_type": "code",
      "metadata": {
        "id": "cwdaVsw79T6S",
        "colab_type": "code",
        "colab": {}
      },
      "source": [
        "from sklearn.model_selection import train_test_split\n",
        "X_train, X_test, y_train, y_test = train_test_split(X, y, test_size = 0.20)"
      ],
      "execution_count": 0,
      "outputs": []
    },
    {
      "cell_type": "code",
      "metadata": {
        "id": "e6BG1kDT9XS-",
        "colab_type": "code",
        "colab": {}
      },
      "source": [
        "from sklearn.tree import DecisionTreeRegressor\n",
        "DTregressor = DecisionTreeRegressor()\n",
        "DTregressor.fit(X_train, y_train)"
      ],
      "execution_count": 0,
      "outputs": []
    },
    {
      "cell_type": "code",
      "metadata": {
        "id": "NbiN4WR39ZNV",
        "colab_type": "code",
        "colab": {}
      },
      "source": [
        "y_pred = DTregressor.predict(X_test)\n",
        "Get_score(y_pred, y_test)"
      ],
      "execution_count": 0,
      "outputs": []
    },
    {
      "cell_type": "markdown",
      "metadata": {
        "id": "vihtELna2McI",
        "colab_type": "text"
      },
      "source": [
        "### Section 3.2.4: Decision Tree with HMP"
      ]
    },
    {
      "cell_type": "code",
      "metadata": {
        "id": "33XR4rg82SgH",
        "colab_type": "code",
        "colab": {}
      },
      "source": [
        "X = hmp_features\n",
        "y = dataset[['short-term_memorability','long-term_memorability']].values"
      ],
      "execution_count": 0,
      "outputs": []
    },
    {
      "cell_type": "code",
      "metadata": {
        "id": "09Egkxyb2VN1",
        "colab_type": "code",
        "colab": {}
      },
      "source": [
        "from sklearn.model_selection import train_test_split\n",
        "X_train, X_test, y_train, y_test = train_test_split(X, y, test_size = 0.20)"
      ],
      "execution_count": 0,
      "outputs": []
    },
    {
      "cell_type": "code",
      "metadata": {
        "id": "lzTx3F_f2Yni",
        "colab_type": "code",
        "colab": {
          "base_uri": "https://localhost:8080/",
          "height": 119
        },
        "outputId": "788accc6-26b1-4b70-ca97-02b539eac5dd"
      },
      "source": [
        "from sklearn.tree import DecisionTreeRegressor\n",
        "DTregressor = DecisionTreeRegressor()\n",
        "DTregressor.fit(X_train, y_train)"
      ],
      "execution_count": 76,
      "outputs": [
        {
          "output_type": "execute_result",
          "data": {
            "text/plain": [
              "DecisionTreeRegressor(ccp_alpha=0.0, criterion='mse', max_depth=None,\n",
              "                      max_features=None, max_leaf_nodes=None,\n",
              "                      min_impurity_decrease=0.0, min_impurity_split=None,\n",
              "                      min_samples_leaf=1, min_samples_split=2,\n",
              "                      min_weight_fraction_leaf=0.0, presort='deprecated',\n",
              "                      random_state=None, splitter='best')"
            ]
          },
          "metadata": {
            "tags": []
          },
          "execution_count": 76
        }
      ]
    },
    {
      "cell_type": "code",
      "metadata": {
        "id": "Os_tJNi72cCl",
        "colab_type": "code",
        "colab": {
          "base_uri": "https://localhost:8080/",
          "height": 51
        },
        "outputId": "40e033d0-9420-4add-833a-c7a50eec2631"
      },
      "source": [
        "y_pred = DTregressor.predict(X_test)\n",
        "Get_score(y_pred, y_test)"
      ],
      "execution_count": 77,
      "outputs": [
        {
          "output_type": "stream",
          "text": [
            "The Spearman's correlation coefficient is: 0.088\n",
            "The Spearman's correlation coefficient is: -0.017\n"
          ],
          "name": "stdout"
        }
      ]
    },
    {
      "cell_type": "markdown",
      "metadata": {
        "id": "S74gO7cV_HCS",
        "colab_type": "text"
      },
      "source": [
        "### Section 3.2.5: Decision Tree with HMP"
      ]
    },
    {
      "cell_type": "code",
      "metadata": {
        "id": "eNjm_3FV_L11",
        "colab_type": "code",
        "colab": {}
      },
      "source": [
        "X = hmp_captions\n",
        "y = dataset[['short-term_memorability','long-term_memorability']].values"
      ],
      "execution_count": 0,
      "outputs": []
    },
    {
      "cell_type": "code",
      "metadata": {
        "id": "ogTEfg76_ZcD",
        "colab_type": "code",
        "colab": {}
      },
      "source": [
        "from sklearn.model_selection import train_test_split\n",
        "X_train, X_test, y_train, y_test = train_test_split(X, y, test_size = 0.20)"
      ],
      "execution_count": 0,
      "outputs": []
    },
    {
      "cell_type": "code",
      "metadata": {
        "id": "m5FOOpQ9_bPt",
        "colab_type": "code",
        "colab": {
          "base_uri": "https://localhost:8080/",
          "height": 119
        },
        "outputId": "0217e81b-86cd-4751-8711-bd6ea8c6d507"
      },
      "source": [
        "from sklearn.tree import DecisionTreeRegressor\n",
        "DTregressor = DecisionTreeRegressor()\n",
        "DTregressor.fit(X_train, y_train)"
      ],
      "execution_count": 95,
      "outputs": [
        {
          "output_type": "execute_result",
          "data": {
            "text/plain": [
              "DecisionTreeRegressor(ccp_alpha=0.0, criterion='mse', max_depth=None,\n",
              "                      max_features=None, max_leaf_nodes=None,\n",
              "                      min_impurity_decrease=0.0, min_impurity_split=None,\n",
              "                      min_samples_leaf=1, min_samples_split=2,\n",
              "                      min_weight_fraction_leaf=0.0, presort='deprecated',\n",
              "                      random_state=None, splitter='best')"
            ]
          },
          "metadata": {
            "tags": []
          },
          "execution_count": 95
        }
      ]
    },
    {
      "cell_type": "code",
      "metadata": {
        "id": "GZRpQw2x_c4L",
        "colab_type": "code",
        "colab": {
          "base_uri": "https://localhost:8080/",
          "height": 51
        },
        "outputId": "f03ba7c1-b1a4-4158-9b0d-c57104dd0e9d"
      },
      "source": [
        "y_pred = DTregressor.predict(X_test)\n",
        "Get_score(y_pred, y_test)"
      ],
      "execution_count": 96,
      "outputs": [
        {
          "output_type": "stream",
          "text": [
            "The Spearman's correlation coefficient is: 0.138\n",
            "The Spearman's correlation coefficient is: 0.026\n"
          ],
          "name": "stdout"
        }
      ]
    },
    {
      "cell_type": "markdown",
      "metadata": {
        "id": "-5cM2p9Rr6dj",
        "colab_type": "text"
      },
      "source": [
        "# Section 4: Comparison of Two Models\n",
        "\n",
        "Below is the table of comparison for Two models RF and DT with their Spearman Coefficient Ranks. We can see that Random Forest has good ranking as compared to Decision Tree. Therefore, I will consider Random Forest model for predicting test data."
      ]
    },
    {
      "cell_type": "code",
      "metadata": {
        "id": "kRarWPmhD5pD",
        "colab_type": "code",
        "colab": {
          "base_uri": "https://localhost:8080/",
          "height": 267
        },
        "outputId": "c04d70ef-4fe3-4d3a-888e-c57b99a6ba63"
      },
      "source": [
        "from IPython.display import Image\n",
        "Image(filename=\"/content/Table.JPG\",width=\"700\",height=\"250\")"
      ],
      "execution_count": 99,
      "outputs": [
        {
          "output_type": "execute_result",
          "data": {
            "image/jpeg": "[encoded data removed]",
            "text/plain": [
              "<IPython.core.display.Image object>"
            ]
          },
          "metadata": {
            "tags": [],
            "image/jpeg": {
              "width": "700",
              "height": "250"
            }
          },
          "execution_count": 99
        }
      ]
    },
    {
      "cell_type": "markdown",
      "metadata": {
        "id": "Z_Gs6_g9rTFs",
        "colab_type": "text"
      },
      "source": [
        "# Section 5: Training and Predicting the model"
      ]
    },
    {
      "cell_type": "markdown",
      "metadata": {
        "id": "TVwTZQroEutU",
        "colab_type": "text"
      },
      "source": [
        "Now for here we will train the model on complete Dev dataset which has 6000 record. Later I will predict the scores on 2000 data from test dataset."
      ]
    },
    {
      "cell_type": "code",
      "metadata": {
        "id": "loY1Z_3bMm3K",
        "colab_type": "code",
        "colab": {}
      },
      "source": [
        "X = captions_list\n",
        "y = dataset[['short-term_memorability','long-term_memorability']].values"
      ],
      "execution_count": 0,
      "outputs": []
    },
    {
      "cell_type": "code",
      "metadata": {
        "id": "K2KCkZZ5MxWV",
        "colab_type": "code",
        "colab": {}
      },
      "source": [
        "print(f'X: ({len(X)})')\n",
        "print(f'y:{y.shape}')"
      ],
      "execution_count": 0,
      "outputs": []
    },
    {
      "cell_type": "code",
      "metadata": {
        "id": "fwH0EblpMzj4",
        "colab_type": "code",
        "colab": {}
      },
      "source": [
        "from sklearn.ensemble import RandomForestRegressor\n",
        "rf_regressor = RandomForestRegressor(n_estimators=100,random_state=45)"
      ],
      "execution_count": 0,
      "outputs": []
    },
    {
      "cell_type": "code",
      "metadata": {
        "id": "UlZskSncNCj1",
        "colab_type": "code",
        "colab": {}
      },
      "source": [
        "rf_regressor.fit(X,y)"
      ],
      "execution_count": 0,
      "outputs": []
    },
    {
      "cell_type": "markdown",
      "metadata": {
        "id": "w0KOSlJ3rho9",
        "colab_type": "text"
      },
      "source": [
        "## Section 5.1: Predicting the test Dataset"
      ]
    },
    {
      "cell_type": "code",
      "metadata": {
        "id": "kJdlhC4-NEkP",
        "colab_type": "code",
        "colab": {}
      },
      "source": [
        "#Predicting the test dataset\n",
        "\n",
        "test_pred = rf_regressor.predict(test_captions_list)"
      ],
      "execution_count": 0,
      "outputs": []
    },
    {
      "cell_type": "code",
      "metadata": {
        "id": "-E5CMMbCNdfZ",
        "colab_type": "code",
        "colab": {}
      },
      "source": [
        "\n",
        "pred = pd.DataFrame()"
      ],
      "execution_count": 0,
      "outputs": []
    },
    {
      "cell_type": "code",
      "metadata": {
        "id": "CjtjiczWNftB",
        "colab_type": "code",
        "colab": {}
      },
      "source": [
        "type(test_pred)"
      ],
      "execution_count": 0,
      "outputs": []
    },
    {
      "cell_type": "code",
      "metadata": {
        "id": "QJt5Ow2-NiDO",
        "colab_type": "code",
        "colab": {}
      },
      "source": [
        "pred['short-term'] = test_pred[:,0]"
      ],
      "execution_count": 0,
      "outputs": []
    },
    {
      "cell_type": "code",
      "metadata": {
        "id": "2V_PPNF0NkPo",
        "colab_type": "code",
        "colab": {}
      },
      "source": [
        "pred['long-term'] = test_pred[:,1]"
      ],
      "execution_count": 0,
      "outputs": []
    },
    {
      "cell_type": "code",
      "metadata": {
        "id": "LI2obR6VNmLs",
        "colab_type": "code",
        "colab": {}
      },
      "source": [
        "pred.head()"
      ],
      "execution_count": 0,
      "outputs": []
    },
    {
      "cell_type": "code",
      "metadata": {
        "id": "i0jfPrkiNoUR",
        "colab_type": "code",
        "colab": {},
        "cellView": "both"
      },
      "source": [
        "pred.describe()"
      ],
      "execution_count": 0,
      "outputs": []
    },
    {
      "cell_type": "code",
      "metadata": {
        "id": "HLUKUrXJNqbB",
        "colab_type": "code",
        "colab": {}
      },
      "source": [
        "pred.to_csv(\"/content/drive/My Drive/Ani_ML_Results/Result.csv\",index=False)"
      ],
      "execution_count": 0,
      "outputs": []
    }
  ]
}